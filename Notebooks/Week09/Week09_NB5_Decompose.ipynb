{
 "cells": [
  {
   "cell_type": "markdown",
   "id": "ffc4ac17-b99a-4756-a9b5-e1b3239bb013",
   "metadata": {},
   "source": [
    "# Decomposing Time Series"
   ]
  },
  {
   "cell_type": "code",
   "execution_count": null,
   "id": "813bc57d-0b5c-473e-b357-39c6bd31b73f",
   "metadata": {},
   "outputs": [],
   "source": [
    "import matplotlib.pyplot as plt\n",
    "from statsmodels.datasets import co2\n",
    "from statsmodels.tsa.seasonal import STL"
   ]
  },
  {
   "cell_type": "code",
   "execution_count": null,
   "id": "901529ce-81d6-4655-a0cf-ed1198fd07eb",
   "metadata": {},
   "outputs": [],
   "source": [
    "data = co2.load().data"
   ]
  },
  {
   "cell_type": "code",
   "execution_count": null,
   "id": "81279857-71c9-47fd-8fe4-135f8c655661",
   "metadata": {},
   "outputs": [],
   "source": [
    "data"
   ]
  },
  {
   "cell_type": "code",
   "execution_count": null,
   "id": "c66ba1bd-9c79-4614-b2a9-03373bfa0cf9",
   "metadata": {},
   "outputs": [],
   "source": [
    "data.plot()"
   ]
  },
  {
   "cell_type": "markdown",
   "id": "3e225089-25da-491b-845e-37833fcb7eac",
   "metadata": {},
   "source": [
    "Looking at the above, there are clearly some missing values."
   ]
  },
  {
   "cell_type": "code",
   "execution_count": null,
   "id": "c734db03-d26c-4128-a9ff-d35d44f5f949",
   "metadata": {},
   "outputs": [],
   "source": [
    "data.isna().sum()"
   ]
  },
  {
   "cell_type": "code",
   "execution_count": null,
   "id": "16aef81c-2ff0-4ff4-85a6-64478d02a195",
   "metadata": {},
   "outputs": [],
   "source": [
    "data = data.resample('ME').mean().ffill()"
   ]
  },
  {
   "cell_type": "code",
   "execution_count": null,
   "id": "96414677-3d82-4ff1-89a7-d597fe6d1b61",
   "metadata": {},
   "outputs": [],
   "source": [
    "data.plot()"
   ]
  },
  {
   "cell_type": "code",
   "execution_count": null,
   "id": "7d3fcfa2-8f78-4a24-8ba7-b91db73ef1eb",
   "metadata": {},
   "outputs": [],
   "source": [
    "data.isna().sum()"
   ]
  },
  {
   "cell_type": "markdown",
   "id": "ec2d9bac-3190-44cb-b6fe-6f09beee6b32",
   "metadata": {},
   "source": [
    "There are several methods in the statsmodels library for decomposing time series.\n",
    "* Examples: https://www.statsmodels.org/devel/tsa.html#time-series-filters"
   ]
  },
  {
   "cell_type": "code",
   "execution_count": null,
   "id": "a6a39280",
   "metadata": {},
   "outputs": [],
   "source": [
    "data"
   ]
  },
  {
   "cell_type": "code",
   "execution_count": null,
   "id": "7e51db78",
   "metadata": {},
   "outputs": [],
   "source": [
    "STL(data['co2'])"
   ]
  },
  {
   "cell_type": "code",
   "execution_count": null,
   "id": "983e8b1c-8bdd-4678-8683-086aa223412b",
   "metadata": {},
   "outputs": [],
   "source": [
    "res = STL(data['co2']).fit()\n",
    "res.plot()\n",
    "plt.show()"
   ]
  },
  {
   "cell_type": "code",
   "execution_count": null,
   "id": "20a8b658-3f33-4da9-80ac-59317e8e937b",
   "metadata": {},
   "outputs": [],
   "source": [
    "data"
   ]
  },
  {
   "cell_type": "code",
   "execution_count": null,
   "id": "2f31d2af-8d73-46fa-b516-7524df40ae6f",
   "metadata": {},
   "outputs": [],
   "source": [
    "data[1:24].plot()"
   ]
  },
  {
   "cell_type": "code",
   "execution_count": null,
   "id": "f12c60b6-372b-4d49-a384-070141517cbc",
   "metadata": {},
   "outputs": [],
   "source": [
    "from statsmodels.graphics.tsaplots import plot_acf, plot_pacf, month_plot, quarter_plot\n",
    "\n",
    "print('Autocorrelation')\n",
    "acf_plot = plot_acf(data['co2'], lags=24, title='Autocorrelation')\n",
    "pacf_plot = plot_pacf(data['co2'], lags=24, title='Partial Autocorrelation')"
   ]
  },
  {
   "cell_type": "markdown",
   "id": "e847bea5",
   "metadata": {},
   "source": [
    "If you're looking at a model, a plot of the autocorrelation of the residuals will tell you whether some information or variables may be missing in your model."
   ]
  },
  {
   "cell_type": "markdown",
   "id": "d88c3fb9",
   "metadata": {},
   "source": [
    "The residuals for the CO2 data do not have a significant autocorrelation."
   ]
  },
  {
   "cell_type": "code",
   "execution_count": null,
   "id": "0c9f6f70",
   "metadata": {},
   "outputs": [],
   "source": [
    "acf_plot = plot_acf(res.resid, lags=24, title='Autocorrelation')"
   ]
  },
  {
   "cell_type": "markdown",
   "id": "80158e61",
   "metadata": {},
   "source": [
    "But if we look at one of our earlier examples on fitting data with polynomials, we can see how the autocorrelation of the residuals indicates that one order of polynomial is not as good for modeling as another."
   ]
  },
  {
   "cell_type": "code",
   "execution_count": null,
   "id": "03408af6",
   "metadata": {},
   "outputs": [],
   "source": [
    "import numpy as np\n",
    "import seaborn as sns\n",
    "\n",
    "# generate 100 points from a normal \n",
    "# distribution that has mean = 0 and std dev = 3.5\n",
    "np.random.seed(42)\n",
    "noise = np.random.normal(0,3.5,100)\n",
    "\n",
    "# make the data arrays (y = x^2 + noise)\n",
    "x = np.linspace(0,10,100)\n",
    "y = x**2 + noise\n",
    "z1 = np.polyfit(x,y,1)\n",
    "y1 = z1[1] + z1[0]*x\n",
    "resid1 = y - y1\n",
    "z2 = np.polyfit(x,y,2)\n",
    "y2 = z2[2] + z2[1]*x + z2[0]*x**2\n",
    "resid2 = y - y2\n",
    "\n",
    "# plot them with order 1 and 2 fits\n",
    "fig,ax = plt.subplots(2,2)\n",
    "\n",
    "ax[0,0].plot(x,y,'ko')\n",
    "ax[0,0].plot(x,y1,'b')\n",
    "ax[0,1].plot(x,resid1,'ko')\n",
    "ax[1,0].plot(x,y,'ko')\n",
    "ax[1,0].plot(x,y2,'b')\n",
    "ax[1,1].plot(x,resid2,'ko')"
   ]
  },
  {
   "cell_type": "code",
   "execution_count": null,
   "id": "02e4677c",
   "metadata": {},
   "outputs": [],
   "source": [
    "acf_plot = plot_acf(resid1, lags=100-1, title='Autocorrelation')"
   ]
  },
  {
   "cell_type": "code",
   "execution_count": null,
   "id": "d46ec97c",
   "metadata": {},
   "outputs": [],
   "source": [
    "acf_plot = plot_acf(resid2, lags=100-1, title='Autocorrelation')"
   ]
  },
  {
   "cell_type": "markdown",
   "id": "eb48ad4e",
   "metadata": {},
   "source": [
    "Back to the CO2 data."
   ]
  },
  {
   "cell_type": "markdown",
   "id": "ea42efd6",
   "metadata": {},
   "source": [
    "We can look at long-term behavior for each of our shorter-term measures."
   ]
  },
  {
   "cell_type": "code",
   "execution_count": null,
   "id": "40913cd5-80aa-4520-859b-74b712bc4fb0",
   "metadata": {},
   "outputs": [],
   "source": [
    "m_plot = month_plot(data['co2'])"
   ]
  },
  {
   "cell_type": "markdown",
   "id": "e14d1c71-f0ba-455f-a609-be0f19672caa",
   "metadata": {},
   "source": [
    "What does this tell us?"
   ]
  },
  {
   "cell_type": "markdown",
   "id": "22c04ee1-8d30-4796-84f8-dd2dadf5ad84",
   "metadata": {},
   "source": [
    "How about quarterly data?"
   ]
  },
  {
   "cell_type": "code",
   "execution_count": null,
   "id": "7f075629-6290-480f-b95e-a0a7ddd7b83a",
   "metadata": {},
   "outputs": [],
   "source": [
    "q_plot = quarter_plot(data['co2'])"
   ]
  },
  {
   "cell_type": "markdown",
   "id": "447020b6-a6d8-48dc-8233-f5944af0c55f",
   "metadata": {},
   "source": [
    "We need to resample our data.  (This is a common time-series operation)."
   ]
  },
  {
   "cell_type": "code",
   "execution_count": null,
   "id": "03173b4f-0fb9-43f6-a460-fd7cf2651b39",
   "metadata": {},
   "outputs": [],
   "source": [
    "data_quarterly = data.resample('QE').mean()"
   ]
  },
  {
   "cell_type": "code",
   "execution_count": null,
   "id": "5452d94d",
   "metadata": {},
   "outputs": [],
   "source": [
    "data_quarterly"
   ]
  },
  {
   "cell_type": "code",
   "execution_count": null,
   "id": "b07930f2-9a37-4d5c-91f0-f2e4d4d9fbfa",
   "metadata": {},
   "outputs": [],
   "source": [
    "q_plot = quarter_plot(data_quarterly['co2'])"
   ]
  },
  {
   "cell_type": "markdown",
   "id": "95ed4563-acf4-4bc8-b3bf-c1812c4e8563",
   "metadata": {},
   "source": [
    "## Seasonal Decomposition with moving average"
   ]
  },
  {
   "cell_type": "code",
   "execution_count": null,
   "id": "63ea501c-be35-4865-9aa4-9f550eaafefd",
   "metadata": {},
   "outputs": [],
   "source": [
    "data"
   ]
  },
  {
   "cell_type": "code",
   "execution_count": null,
   "id": "5bc00e13-9ff2-49ad-94a0-62852e29d78f",
   "metadata": {},
   "outputs": [],
   "source": [
    "a = data.reset_index()"
   ]
  },
  {
   "cell_type": "code",
   "execution_count": null,
   "id": "8eb55407-be5e-4f65-8a38-c360e96f8dcc",
   "metadata": {},
   "outputs": [],
   "source": [
    "a.columns = ['Date','fit']"
   ]
  },
  {
   "cell_type": "code",
   "execution_count": null,
   "id": "b7f845c6-b993-4b5e-98cc-196d3e87272d",
   "metadata": {},
   "outputs": [],
   "source": [
    "a"
   ]
  },
  {
   "cell_type": "code",
   "execution_count": null,
   "id": "a73fb738-b444-45bc-bcb4-2bdacf076779",
   "metadata": {},
   "outputs": [],
   "source": [
    "from statsmodels.tsa.seasonal import seasonal_decompose\n",
    "\n",
    "ss_decomposition = seasonal_decompose(x=a['fit'], model='additive', period=12)\n",
    "estimated_trend = ss_decomposition.trend\n",
    "estimated_seasonal = ss_decomposition.seasonal\n",
    "estimated_residual = ss_decomposition.resid"
   ]
  },
  {
   "cell_type": "code",
   "execution_count": null,
   "id": "e7ecfa47-7ca9-4521-b21c-816275ed02df",
   "metadata": {},
   "outputs": [],
   "source": [
    "import matplotlib.pyplot as plt"
   ]
  },
  {
   "cell_type": "code",
   "execution_count": null,
   "id": "878c86ca-384a-458b-8c1a-892c45528127",
   "metadata": {},
   "outputs": [],
   "source": [
    "fig, axes = plt.subplots(4, 1, sharex=True, sharey=False)\n",
    "fig.set_figheight(10)\n",
    "fig.set_figwidth(15)\n",
    "\n",
    "axes[0].plot(a['Date'], a['fit'], label='Original')\n",
    "axes[0].legend(loc='upper left');\n",
    "\n",
    "axes[1].plot(a['Date'], estimated_trend, label='Trend')\n",
    "axes[1].legend(loc='upper left');\n",
    "\n",
    "axes[2].plot(a['Date'], estimated_seasonal, label='Seasonality')\n",
    "axes[2].legend(loc='upper left');\n",
    "\n",
    "axes[3].plot(a['Date'], estimated_residual, label='Residuals')\n",
    "axes[3].legend(loc='upper left');"
   ]
  },
  {
   "cell_type": "code",
   "execution_count": null,
   "id": "c27bd404-990f-4d84-9261-292d129ac8f4",
   "metadata": {},
   "outputs": [],
   "source": [
    "plt.plot(a['Date'], estimated_seasonal, label='Seasonality')"
   ]
  },
  {
   "cell_type": "code",
   "execution_count": null,
   "id": "7af78fce-bf32-47e1-a82b-24da66ec70b8",
   "metadata": {},
   "outputs": [],
   "source": [
    "estimated_seasonal"
   ]
  },
  {
   "cell_type": "code",
   "execution_count": null,
   "id": "888d97bb-38d5-4337-959f-dcf9d782a1b5",
   "metadata": {},
   "outputs": [],
   "source": [
    "plt.plot(a.loc[515-5*12:525, 'Date'], estimated_seasonal.loc[515-5*12:525], label='Seasonality')"
   ]
  }
 ],
 "metadata": {
  "kernelspec": {
   "display_name": "Python 3 (ipykernel)",
   "language": "python",
   "name": "python3"
  },
  "language_info": {
   "codemirror_mode": {
    "name": "ipython",
    "version": 3
   },
   "file_extension": ".py",
   "mimetype": "text/x-python",
   "name": "python",
   "nbconvert_exporter": "python",
   "pygments_lexer": "ipython3",
   "version": "3.10.13"
  }
 },
 "nbformat": 4,
 "nbformat_minor": 5
}
